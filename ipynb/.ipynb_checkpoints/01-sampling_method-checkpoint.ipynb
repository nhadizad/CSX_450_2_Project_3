{
 "cells": [
  {
   "cell_type": "markdown",
   "metadata": {},
   "source": [
    "## Sampling Techniques"
   ]
  },
  {
   "cell_type": "markdown",
   "metadata": {},
   "source": [
    "We will examine 4 different sampling methods and compare the results to the original data:\n",
    "\n",
    "    1) Sample 1% of the data (5 data points)\n",
    "    2) Sample 1% of the data repeadately 100 times (100 x 5 data points)\n",
    "    3) Sample 10% of the data (51 data points)\n",
    "    4) Sample calculated based on a confidence level of 95% and margin of error of 5% (219 data points)"
   ]
  },
  {
   "cell_type": "code",
   "execution_count": 1,
   "metadata": {},
   "outputs": [],
   "source": [
    "library(MASS)"
   ]
  },
  {
   "cell_type": "code",
   "execution_count": 2,
   "metadata": {},
   "outputs": [],
   "source": [
    "data(Boston)"
   ]
  },
  {
   "cell_type": "code",
   "execution_count": 3,
   "metadata": {},
   "outputs": [
    {
     "data": {
      "text/html": [
       "<ol class=list-inline>\n",
       "\t<li>506</li>\n",
       "\t<li>14</li>\n",
       "</ol>\n"
      ],
      "text/latex": [
       "\\begin{enumerate*}\n",
       "\\item 506\n",
       "\\item 14\n",
       "\\end{enumerate*}\n"
      ],
      "text/markdown": [
       "1. 506\n",
       "2. 14\n",
       "\n",
       "\n"
      ],
      "text/plain": [
       "[1] 506  14"
      ]
     },
     "metadata": {},
     "output_type": "display_data"
    }
   ],
   "source": [
    "dim(Boston)"
   ]
  },
  {
   "cell_type": "code",
   "execution_count": 4,
   "metadata": {},
   "outputs": [
    {
     "data": {
      "text/html": [
       "<table>\n",
       "<thead><tr><th scope=col>crim</th><th scope=col>zn</th><th scope=col>indus</th><th scope=col>chas</th><th scope=col>nox</th><th scope=col>rm</th><th scope=col>age</th><th scope=col>dis</th><th scope=col>rad</th><th scope=col>tax</th><th scope=col>ptratio</th><th scope=col>black</th><th scope=col>lstat</th><th scope=col>medv</th></tr></thead>\n",
       "<tbody>\n",
       "\t<tr><td>0.00632</td><td>18     </td><td>2.31   </td><td>0      </td><td>0.538  </td><td>6.575  </td><td>65.2   </td><td>4.0900 </td><td>1      </td><td>296    </td><td>15.3   </td><td>396.90 </td><td>4.98   </td><td>24.0   </td></tr>\n",
       "\t<tr><td>0.02731</td><td> 0     </td><td>7.07   </td><td>0      </td><td>0.469  </td><td>6.421  </td><td>78.9   </td><td>4.9671 </td><td>2      </td><td>242    </td><td>17.8   </td><td>396.90 </td><td>9.14   </td><td>21.6   </td></tr>\n",
       "\t<tr><td>0.02729</td><td> 0     </td><td>7.07   </td><td>0      </td><td>0.469  </td><td>7.185  </td><td>61.1   </td><td>4.9671 </td><td>2      </td><td>242    </td><td>17.8   </td><td>392.83 </td><td>4.03   </td><td>34.7   </td></tr>\n",
       "\t<tr><td>0.03237</td><td> 0     </td><td>2.18   </td><td>0      </td><td>0.458  </td><td>6.998  </td><td>45.8   </td><td>6.0622 </td><td>3      </td><td>222    </td><td>18.7   </td><td>394.63 </td><td>2.94   </td><td>33.4   </td></tr>\n",
       "\t<tr><td>0.06905</td><td> 0     </td><td>2.18   </td><td>0      </td><td>0.458  </td><td>7.147  </td><td>54.2   </td><td>6.0622 </td><td>3      </td><td>222    </td><td>18.7   </td><td>396.90 </td><td>5.33   </td><td>36.2   </td></tr>\n",
       "\t<tr><td>0.02985</td><td> 0     </td><td>2.18   </td><td>0      </td><td>0.458  </td><td>6.430  </td><td>58.7   </td><td>6.0622 </td><td>3      </td><td>222    </td><td>18.7   </td><td>394.12 </td><td>5.21   </td><td>28.7   </td></tr>\n",
       "</tbody>\n",
       "</table>\n"
      ],
      "text/latex": [
       "\\begin{tabular}{r|llllllllllllll}\n",
       " crim & zn & indus & chas & nox & rm & age & dis & rad & tax & ptratio & black & lstat & medv\\\\\n",
       "\\hline\n",
       "\t 0.00632 & 18      & 2.31    & 0       & 0.538   & 6.575   & 65.2    & 4.0900  & 1       & 296     & 15.3    & 396.90  & 4.98    & 24.0   \\\\\n",
       "\t 0.02731 &  0      & 7.07    & 0       & 0.469   & 6.421   & 78.9    & 4.9671  & 2       & 242     & 17.8    & 396.90  & 9.14    & 21.6   \\\\\n",
       "\t 0.02729 &  0      & 7.07    & 0       & 0.469   & 7.185   & 61.1    & 4.9671  & 2       & 242     & 17.8    & 392.83  & 4.03    & 34.7   \\\\\n",
       "\t 0.03237 &  0      & 2.18    & 0       & 0.458   & 6.998   & 45.8    & 6.0622  & 3       & 222     & 18.7    & 394.63  & 2.94    & 33.4   \\\\\n",
       "\t 0.06905 &  0      & 2.18    & 0       & 0.458   & 7.147   & 54.2    & 6.0622  & 3       & 222     & 18.7    & 396.90  & 5.33    & 36.2   \\\\\n",
       "\t 0.02985 &  0      & 2.18    & 0       & 0.458   & 6.430   & 58.7    & 6.0622  & 3       & 222     & 18.7    & 394.12  & 5.21    & 28.7   \\\\\n",
       "\\end{tabular}\n"
      ],
      "text/markdown": [
       "\n",
       "crim | zn | indus | chas | nox | rm | age | dis | rad | tax | ptratio | black | lstat | medv | \n",
       "|---|---|---|---|---|---|\n",
       "| 0.00632 | 18      | 2.31    | 0       | 0.538   | 6.575   | 65.2    | 4.0900  | 1       | 296     | 15.3    | 396.90  | 4.98    | 24.0    | \n",
       "| 0.02731 |  0      | 7.07    | 0       | 0.469   | 6.421   | 78.9    | 4.9671  | 2       | 242     | 17.8    | 396.90  | 9.14    | 21.6    | \n",
       "| 0.02729 |  0      | 7.07    | 0       | 0.469   | 7.185   | 61.1    | 4.9671  | 2       | 242     | 17.8    | 392.83  | 4.03    | 34.7    | \n",
       "| 0.03237 |  0      | 2.18    | 0       | 0.458   | 6.998   | 45.8    | 6.0622  | 3       | 222     | 18.7    | 394.63  | 2.94    | 33.4    | \n",
       "| 0.06905 |  0      | 2.18    | 0       | 0.458   | 7.147   | 54.2    | 6.0622  | 3       | 222     | 18.7    | 396.90  | 5.33    | 36.2    | \n",
       "| 0.02985 |  0      | 2.18    | 0       | 0.458   | 6.430   | 58.7    | 6.0622  | 3       | 222     | 18.7    | 394.12  | 5.21    | 28.7    | \n",
       "\n",
       "\n"
      ],
      "text/plain": [
       "  crim    zn indus chas nox   rm    age  dis    rad tax ptratio black  lstat\n",
       "1 0.00632 18 2.31  0    0.538 6.575 65.2 4.0900 1   296 15.3    396.90 4.98 \n",
       "2 0.02731  0 7.07  0    0.469 6.421 78.9 4.9671 2   242 17.8    396.90 9.14 \n",
       "3 0.02729  0 7.07  0    0.469 7.185 61.1 4.9671 2   242 17.8    392.83 4.03 \n",
       "4 0.03237  0 2.18  0    0.458 6.998 45.8 6.0622 3   222 18.7    394.63 2.94 \n",
       "5 0.06905  0 2.18  0    0.458 7.147 54.2 6.0622 3   222 18.7    396.90 5.33 \n",
       "6 0.02985  0 2.18  0    0.458 6.430 58.7 6.0622 3   222 18.7    394.12 5.21 \n",
       "  medv\n",
       "1 24.0\n",
       "2 21.6\n",
       "3 34.7\n",
       "4 33.4\n",
       "5 36.2\n",
       "6 28.7"
      ]
     },
     "metadata": {},
     "output_type": "display_data"
    }
   ],
   "source": [
    "head(Boston)"
   ]
  },
  {
   "cell_type": "code",
   "execution_count": 5,
   "metadata": {},
   "outputs": [],
   "source": [
    "Boston$medv <- NULL"
   ]
  },
  {
   "cell_type": "code",
   "execution_count": 6,
   "metadata": {},
   "outputs": [
    {
     "name": "stderr",
     "output_type": "stream",
     "text": [
      "Updating HTML index of packages in '.Library'\n",
      "Making 'packages.html' ... done\n"
     ]
    }
   ],
   "source": [
    "install.packages('moments')"
   ]
  },
  {
   "cell_type": "code",
   "execution_count": 7,
   "metadata": {},
   "outputs": [],
   "source": [
    "library(moments)"
   ]
  },
  {
   "cell_type": "code",
   "execution_count": 8,
   "metadata": {},
   "outputs": [],
   "source": [
    "library(dplyr, warn.conflicts = FALSE)"
   ]
  },
  {
   "cell_type": "code",
   "execution_count": 9,
   "metadata": {},
   "outputs": [],
   "source": [
    "sample_1_pct <- sample_n(Boston, 5)"
   ]
  },
  {
   "cell_type": "code",
   "execution_count": 10,
   "metadata": {},
   "outputs": [],
   "source": [
    "sample_100x_1_pct<- colMeans(sample_n(Boston, 5))\n",
    "\n",
    "for (i in 1:99) {\n",
    "    sample_100x_1_pct <- (sample_100x_1_pct*(i) + colMeans(sample_n(Boston, 5)))/(i+1)\n",
    "}"
   ]
  },
  {
   "cell_type": "code",
   "execution_count": 11,
   "metadata": {},
   "outputs": [],
   "source": [
    "sample_10_pct <- sample_n(Boston, 51)"
   ]
  },
  {
   "cell_type": "code",
   "execution_count": 12,
   "metadata": {},
   "outputs": [],
   "source": [
    "sample_95_5 <- sample_n(Boston, 219)"
   ]
  },
  {
   "cell_type": "code",
   "execution_count": 13,
   "metadata": {},
   "outputs": [],
   "source": [
    "stats = data.frame(feature=colnames(Boston))\n",
    "stats['mean_dataset'] = sapply(Boston, mean)\n",
    "stats['sd_dataset'] = sapply(Boston, sd)\n",
    "stats['skewness_dataset'] = sapply(Boston, skewness)\n",
    "\n",
    "stats['mean_sample_1_pct'] = sapply(sample_1_pct, mean)\n",
    "stats['mean_sample_100x_1_pct'] = sapply(sample_100x_1_pct, mean)\n",
    "stats['mean_sample_10_pct'] = sapply(sample_10_pct, mean)\n",
    "stats['mean_sample_95_5'] = sapply(sample_95_5,mean)"
   ]
  },
  {
   "cell_type": "code",
   "execution_count": 14,
   "metadata": {},
   "outputs": [
    {
     "data": {
      "text/html": [
       "<table>\n",
       "<thead><tr><th scope=col>feature</th><th scope=col>mean_dataset</th><th scope=col>sd_dataset</th><th scope=col>skewness_dataset</th><th scope=col>mean_sample_1_pct</th><th scope=col>mean_sample_100x_1_pct</th><th scope=col>mean_sample_10_pct</th><th scope=col>mean_sample_95_5</th></tr></thead>\n",
       "<tbody>\n",
       "\t<tr><td>crim        </td><td>  3.61352356</td><td>  8.6015451 </td><td> 5.2076524  </td><td>  0.105654  </td><td>  3.6833727 </td><td>  2.53872392</td><td>  3.04115416</td></tr>\n",
       "\t<tr><td>zn          </td><td> 11.36363636</td><td> 23.3224530 </td><td> 2.2190631  </td><td> 34.400000  </td><td> 12.2750000 </td><td> 10.69607843</td><td> 11.75342466</td></tr>\n",
       "\t<tr><td>indus       </td><td> 11.13677866</td><td>  6.8603529 </td><td> 0.2941463  </td><td>  9.580000  </td><td> 11.0885200 </td><td> 10.80450980</td><td> 10.79986301</td></tr>\n",
       "\t<tr><td>chas        </td><td>  0.06916996</td><td>  0.2539940 </td><td> 3.3957993  </td><td>  0.000000  </td><td>  0.0520000 </td><td>  0.07843137</td><td>  0.06392694</td></tr>\n",
       "\t<tr><td>nox         </td><td>  0.55469506</td><td>  0.1158777 </td><td> 0.7271442  </td><td>  0.470000  </td><td>  0.5484476 </td><td>  0.54439020</td><td>  0.55066621</td></tr>\n",
       "\t<tr><td>rm          </td><td>  6.28463439</td><td>  0.7026171 </td><td> 0.4024147  </td><td>  6.324600  </td><td>  6.2411780 </td><td>  6.24335294</td><td>  6.30356164</td></tr>\n",
       "\t<tr><td>age         </td><td> 68.57490119</td><td> 28.1488614 </td><td>-0.5971856  </td><td> 42.000000  </td><td> 67.4354000 </td><td> 68.29019608</td><td> 67.26940639</td></tr>\n",
       "\t<tr><td>dis         </td><td>  3.79504269</td><td>  2.1057101 </td><td> 1.0087788  </td><td>  7.199960  </td><td>  3.7774464 </td><td>  3.82825490</td><td>  3.85875251</td></tr>\n",
       "\t<tr><td>rad         </td><td>  9.54940711</td><td>  8.7072594 </td><td> 1.0018335  </td><td>  4.800000  </td><td>  9.2260000 </td><td>  8.58823529</td><td>  9.24657534</td></tr>\n",
       "\t<tr><td>tax         </td><td>408.23715415</td><td>168.5371161 </td><td> 0.6679683  </td><td>383.200000  </td><td>406.7040000 </td><td>385.78431373</td><td>392.56621005</td></tr>\n",
       "\t<tr><td>ptratio     </td><td> 18.45553360</td><td>  2.1649455 </td><td>-0.7999445  </td><td> 18.620000  </td><td> 18.5388000 </td><td> 18.15686275</td><td> 18.36255708</td></tr>\n",
       "\t<tr><td>black       </td><td>356.67403162</td><td> 91.2948644 </td><td>-2.8817983  </td><td>386.484000  </td><td>355.4398200 </td><td>354.82941176</td><td>359.91954338</td></tr>\n",
       "\t<tr><td>lstat       </td><td> 12.65306324</td><td>  7.1410615 </td><td> 0.9037707  </td><td>  8.666000  </td><td> 12.9911400 </td><td> 12.62000000</td><td> 12.03986301</td></tr>\n",
       "</tbody>\n",
       "</table>\n"
      ],
      "text/latex": [
       "\\begin{tabular}{r|llllllll}\n",
       " feature & mean\\_dataset & sd\\_dataset & skewness\\_dataset & mean\\_sample\\_1\\_pct & mean\\_sample\\_100x\\_1\\_pct & mean\\_sample\\_10\\_pct & mean\\_sample\\_95\\_5\\\\\n",
       "\\hline\n",
       "\t crim         &   3.61352356 &   8.6015451  &  5.2076524   &   0.105654   &   3.6833727  &   2.53872392 &   3.04115416\\\\\n",
       "\t zn           &  11.36363636 &  23.3224530  &  2.2190631   &  34.400000   &  12.2750000  &  10.69607843 &  11.75342466\\\\\n",
       "\t indus        &  11.13677866 &   6.8603529  &  0.2941463   &   9.580000   &  11.0885200  &  10.80450980 &  10.79986301\\\\\n",
       "\t chas         &   0.06916996 &   0.2539940  &  3.3957993   &   0.000000   &   0.0520000  &   0.07843137 &   0.06392694\\\\\n",
       "\t nox          &   0.55469506 &   0.1158777  &  0.7271442   &   0.470000   &   0.5484476  &   0.54439020 &   0.55066621\\\\\n",
       "\t rm           &   6.28463439 &   0.7026171  &  0.4024147   &   6.324600   &   6.2411780  &   6.24335294 &   6.30356164\\\\\n",
       "\t age          &  68.57490119 &  28.1488614  & -0.5971856   &  42.000000   &  67.4354000  &  68.29019608 &  67.26940639\\\\\n",
       "\t dis          &   3.79504269 &   2.1057101  &  1.0087788   &   7.199960   &   3.7774464  &   3.82825490 &   3.85875251\\\\\n",
       "\t rad          &   9.54940711 &   8.7072594  &  1.0018335   &   4.800000   &   9.2260000  &   8.58823529 &   9.24657534\\\\\n",
       "\t tax          & 408.23715415 & 168.5371161  &  0.6679683   & 383.200000   & 406.7040000  & 385.78431373 & 392.56621005\\\\\n",
       "\t ptratio      &  18.45553360 &   2.1649455  & -0.7999445   &  18.620000   &  18.5388000  &  18.15686275 &  18.36255708\\\\\n",
       "\t black        & 356.67403162 &  91.2948644  & -2.8817983   & 386.484000   & 355.4398200  & 354.82941176 & 359.91954338\\\\\n",
       "\t lstat        &  12.65306324 &   7.1410615  &  0.9037707   &   8.666000   &  12.9911400  &  12.62000000 &  12.03986301\\\\\n",
       "\\end{tabular}\n"
      ],
      "text/markdown": [
       "\n",
       "feature | mean_dataset | sd_dataset | skewness_dataset | mean_sample_1_pct | mean_sample_100x_1_pct | mean_sample_10_pct | mean_sample_95_5 | \n",
       "|---|---|---|---|---|---|---|---|---|---|---|---|---|\n",
       "| crim         |   3.61352356 |   8.6015451  |  5.2076524   |   0.105654   |   3.6833727  |   2.53872392 |   3.04115416 | \n",
       "| zn           |  11.36363636 |  23.3224530  |  2.2190631   |  34.400000   |  12.2750000  |  10.69607843 |  11.75342466 | \n",
       "| indus        |  11.13677866 |   6.8603529  |  0.2941463   |   9.580000   |  11.0885200  |  10.80450980 |  10.79986301 | \n",
       "| chas         |   0.06916996 |   0.2539940  |  3.3957993   |   0.000000   |   0.0520000  |   0.07843137 |   0.06392694 | \n",
       "| nox          |   0.55469506 |   0.1158777  |  0.7271442   |   0.470000   |   0.5484476  |   0.54439020 |   0.55066621 | \n",
       "| rm           |   6.28463439 |   0.7026171  |  0.4024147   |   6.324600   |   6.2411780  |   6.24335294 |   6.30356164 | \n",
       "| age          |  68.57490119 |  28.1488614  | -0.5971856   |  42.000000   |  67.4354000  |  68.29019608 |  67.26940639 | \n",
       "| dis          |   3.79504269 |   2.1057101  |  1.0087788   |   7.199960   |   3.7774464  |   3.82825490 |   3.85875251 | \n",
       "| rad          |   9.54940711 |   8.7072594  |  1.0018335   |   4.800000   |   9.2260000  |   8.58823529 |   9.24657534 | \n",
       "| tax          | 408.23715415 | 168.5371161  |  0.6679683   | 383.200000   | 406.7040000  | 385.78431373 | 392.56621005 | \n",
       "| ptratio      |  18.45553360 |   2.1649455  | -0.7999445   |  18.620000   |  18.5388000  |  18.15686275 |  18.36255708 | \n",
       "| black        | 356.67403162 |  91.2948644  | -2.8817983   | 386.484000   | 355.4398200  | 354.82941176 | 359.91954338 | \n",
       "| lstat        |  12.65306324 |   7.1410615  |  0.9037707   |   8.666000   |  12.9911400  |  12.62000000 |  12.03986301 | \n",
       "\n",
       "\n"
      ],
      "text/plain": [
       "   feature mean_dataset sd_dataset  skewness_dataset mean_sample_1_pct\n",
       "1  crim      3.61352356   8.6015451  5.2076524         0.105654       \n",
       "2  zn       11.36363636  23.3224530  2.2190631        34.400000       \n",
       "3  indus    11.13677866   6.8603529  0.2941463         9.580000       \n",
       "4  chas      0.06916996   0.2539940  3.3957993         0.000000       \n",
       "5  nox       0.55469506   0.1158777  0.7271442         0.470000       \n",
       "6  rm        6.28463439   0.7026171  0.4024147         6.324600       \n",
       "7  age      68.57490119  28.1488614 -0.5971856        42.000000       \n",
       "8  dis       3.79504269   2.1057101  1.0087788         7.199960       \n",
       "9  rad       9.54940711   8.7072594  1.0018335         4.800000       \n",
       "10 tax     408.23715415 168.5371161  0.6679683       383.200000       \n",
       "11 ptratio  18.45553360   2.1649455 -0.7999445        18.620000       \n",
       "12 black   356.67403162  91.2948644 -2.8817983       386.484000       \n",
       "13 lstat    12.65306324   7.1410615  0.9037707         8.666000       \n",
       "   mean_sample_100x_1_pct mean_sample_10_pct mean_sample_95_5\n",
       "1    3.6833727              2.53872392         3.04115416    \n",
       "2   12.2750000             10.69607843        11.75342466    \n",
       "3   11.0885200             10.80450980        10.79986301    \n",
       "4    0.0520000              0.07843137         0.06392694    \n",
       "5    0.5484476              0.54439020         0.55066621    \n",
       "6    6.2411780              6.24335294         6.30356164    \n",
       "7   67.4354000             68.29019608        67.26940639    \n",
       "8    3.7774464              3.82825490         3.85875251    \n",
       "9    9.2260000              8.58823529         9.24657534    \n",
       "10 406.7040000            385.78431373       392.56621005    \n",
       "11  18.5388000             18.15686275        18.36255708    \n",
       "12 355.4398200            354.82941176       359.91954338    \n",
       "13  12.9911400             12.62000000        12.03986301    "
      ]
     },
     "metadata": {},
     "output_type": "display_data"
    }
   ],
   "source": [
    "stats"
   ]
  },
  {
   "cell_type": "code",
   "execution_count": 15,
   "metadata": {},
   "outputs": [],
   "source": [
    "library(reshape2)\n",
    "library(ggplot2)"
   ]
  },
  {
   "cell_type": "code",
   "execution_count": 16,
   "metadata": {},
   "outputs": [
    {
     "name": "stderr",
     "output_type": "stream",
     "text": [
      "Using feature as id variables\n"
     ]
    },
    {
     "data": {},
     "metadata": {},
     "output_type": "display_data"
    },
    {
     "data": {
      "image/png": "[encoded data removed]",
      "text/plain": [
       "plot without title"
      ]
     },
     "metadata": {},
     "output_type": "display_data"
    }
   ],
   "source": [
    "ggplot(melt(stats[,c('feature','mean_dataset','mean_sample_1_pct','mean_sample_100x_1_pct','mean_sample_10_pct','mean_sample_95_5')]), aes(x = feature, y = value, fill = variable)) + \n",
    "    geom_bar(stat = \"identity\", width=0.5, position = \"dodge\")"
   ]
  },
  {
   "cell_type": "code",
   "execution_count": 17,
   "metadata": {},
   "outputs": [],
   "source": [
    "zscores = data.frame(feature=colnames(sample_1_pct))"
   ]
  },
  {
   "cell_type": "code",
   "execution_count": 18,
   "metadata": {},
   "outputs": [],
   "source": [
    "zscores['sample_1_pct'] <- (colMeans(sample_1_pct) - stats$mean_dataset)/stats$sd_dataset"
   ]
  },
  {
   "cell_type": "code",
   "execution_count": 19,
   "metadata": {},
   "outputs": [],
   "source": [
    "zscores['sample_100x_1_pct'] <- (sample_100x_1_pct-stats$mean_dataset)/stats$sd_dataset"
   ]
  },
  {
   "cell_type": "code",
   "execution_count": 20,
   "metadata": {},
   "outputs": [],
   "source": [
    "zscores['sample_10_pct'] <- (colMeans(sample_10_pct) - stats$mean_dataset)/stats$sd_dataset"
   ]
  },
  {
   "cell_type": "code",
   "execution_count": 21,
   "metadata": {},
   "outputs": [],
   "source": [
    "zscores['sample_95_5'] <- (colMeans(sample_95_5) - stats$mean_dataset)/stats$sd_dataset"
   ]
  },
  {
   "cell_type": "code",
   "execution_count": 22,
   "metadata": {},
   "outputs": [
    {
     "data": {
      "text/html": [
       "<table>\n",
       "<thead><tr><th scope=col>feature</th><th scope=col>sample_1_pct</th><th scope=col>sample_100x_1_pct</th><th scope=col>sample_10_pct</th><th scope=col>sample_95_5</th></tr></thead>\n",
       "<tbody>\n",
       "\t<tr><td>crim        </td><td>-0.40781854 </td><td> 0.008120530</td><td>-0.124954252</td><td>-0.06654263 </td></tr>\n",
       "\t<tr><td>zn          </td><td> 0.98773331 </td><td> 0.039076663</td><td>-0.028622973</td><td> 0.01671301 </td></tr>\n",
       "\t<tr><td>indus       </td><td>-0.22692399 </td><td>-0.007034428</td><td>-0.048433201</td><td>-0.04911054 </td></tr>\n",
       "\t<tr><td>chas        </td><td>-0.27232907 </td><td>-0.067599855</td><td> 0.036463108</td><td>-0.02064229 </td></tr>\n",
       "\t<tr><td>nox         </td><td>-0.73090057 </td><td>-0.053914261</td><td>-0.088928805</td><td>-0.03476812 </td></tr>\n",
       "\t<tr><td>rm          </td><td> 0.05688107 </td><td>-0.061849313</td><td>-0.058753827</td><td> 0.02693822 </td></tr>\n",
       "\t<tr><td>age         </td><td>-0.94408441 </td><td>-0.040481253</td><td>-0.010114267</td><td>-0.04637825 </td></tr>\n",
       "\t<tr><td>dis         </td><td> 1.61699242 </td><td>-0.008356463</td><td> 0.015772453</td><td> 0.03025574 </td></tr>\n",
       "\t<tr><td>rad         </td><td>-0.54545373 </td><td>-0.037142240</td><td>-0.110387411</td><td>-0.03477923 </td></tr>\n",
       "\t<tr><td>tax         </td><td>-0.14855573 </td><td>-0.009096834</td><td>-0.133221933</td><td>-0.09298215 </td></tr>\n",
       "\t<tr><td>ptratio     </td><td> 0.07596792 </td><td> 0.038461200</td><td>-0.137957675</td><td>-0.04294636 </td></tr>\n",
       "\t<tr><td>black       </td><td> 0.32652404 </td><td>-0.013518960</td><td>-0.020205078</td><td> 0.03554977 </td></tr>\n",
       "\t<tr><td>lstat       </td><td>-0.55832921 </td><td> 0.047342648</td><td>-0.004630018</td><td>-0.08586962 </td></tr>\n",
       "</tbody>\n",
       "</table>\n"
      ],
      "text/latex": [
       "\\begin{tabular}{r|lllll}\n",
       " feature & sample\\_1\\_pct & sample\\_100x\\_1\\_pct & sample\\_10\\_pct & sample\\_95\\_5\\\\\n",
       "\\hline\n",
       "\t crim         & -0.40781854  &  0.008120530 & -0.124954252 & -0.06654263 \\\\\n",
       "\t zn           &  0.98773331  &  0.039076663 & -0.028622973 &  0.01671301 \\\\\n",
       "\t indus        & -0.22692399  & -0.007034428 & -0.048433201 & -0.04911054 \\\\\n",
       "\t chas         & -0.27232907  & -0.067599855 &  0.036463108 & -0.02064229 \\\\\n",
       "\t nox          & -0.73090057  & -0.053914261 & -0.088928805 & -0.03476812 \\\\\n",
       "\t rm           &  0.05688107  & -0.061849313 & -0.058753827 &  0.02693822 \\\\\n",
       "\t age          & -0.94408441  & -0.040481253 & -0.010114267 & -0.04637825 \\\\\n",
       "\t dis          &  1.61699242  & -0.008356463 &  0.015772453 &  0.03025574 \\\\\n",
       "\t rad          & -0.54545373  & -0.037142240 & -0.110387411 & -0.03477923 \\\\\n",
       "\t tax          & -0.14855573  & -0.009096834 & -0.133221933 & -0.09298215 \\\\\n",
       "\t ptratio      &  0.07596792  &  0.038461200 & -0.137957675 & -0.04294636 \\\\\n",
       "\t black        &  0.32652404  & -0.013518960 & -0.020205078 &  0.03554977 \\\\\n",
       "\t lstat        & -0.55832921  &  0.047342648 & -0.004630018 & -0.08586962 \\\\\n",
       "\\end{tabular}\n"
      ],
      "text/markdown": [
       "\n",
       "feature | sample_1_pct | sample_100x_1_pct | sample_10_pct | sample_95_5 | \n",
       "|---|---|---|---|---|---|---|---|---|---|---|---|---|\n",
       "| crim         | -0.40781854  |  0.008120530 | -0.124954252 | -0.06654263  | \n",
       "| zn           |  0.98773331  |  0.039076663 | -0.028622973 |  0.01671301  | \n",
       "| indus        | -0.22692399  | -0.007034428 | -0.048433201 | -0.04911054  | \n",
       "| chas         | -0.27232907  | -0.067599855 |  0.036463108 | -0.02064229  | \n",
       "| nox          | -0.73090057  | -0.053914261 | -0.088928805 | -0.03476812  | \n",
       "| rm           |  0.05688107  | -0.061849313 | -0.058753827 |  0.02693822  | \n",
       "| age          | -0.94408441  | -0.040481253 | -0.010114267 | -0.04637825  | \n",
       "| dis          |  1.61699242  | -0.008356463 |  0.015772453 |  0.03025574  | \n",
       "| rad          | -0.54545373  | -0.037142240 | -0.110387411 | -0.03477923  | \n",
       "| tax          | -0.14855573  | -0.009096834 | -0.133221933 | -0.09298215  | \n",
       "| ptratio      |  0.07596792  |  0.038461200 | -0.137957675 | -0.04294636  | \n",
       "| black        |  0.32652404  | -0.013518960 | -0.020205078 |  0.03554977  | \n",
       "| lstat        | -0.55832921  |  0.047342648 | -0.004630018 | -0.08586962  | \n",
       "\n",
       "\n"
      ],
      "text/plain": [
       "   feature sample_1_pct sample_100x_1_pct sample_10_pct sample_95_5\n",
       "1  crim    -0.40781854   0.008120530      -0.124954252  -0.06654263\n",
       "2  zn       0.98773331   0.039076663      -0.028622973   0.01671301\n",
       "3  indus   -0.22692399  -0.007034428      -0.048433201  -0.04911054\n",
       "4  chas    -0.27232907  -0.067599855       0.036463108  -0.02064229\n",
       "5  nox     -0.73090057  -0.053914261      -0.088928805  -0.03476812\n",
       "6  rm       0.05688107  -0.061849313      -0.058753827   0.02693822\n",
       "7  age     -0.94408441  -0.040481253      -0.010114267  -0.04637825\n",
       "8  dis      1.61699242  -0.008356463       0.015772453   0.03025574\n",
       "9  rad     -0.54545373  -0.037142240      -0.110387411  -0.03477923\n",
       "10 tax     -0.14855573  -0.009096834      -0.133221933  -0.09298215\n",
       "11 ptratio  0.07596792   0.038461200      -0.137957675  -0.04294636\n",
       "12 black    0.32652404  -0.013518960      -0.020205078   0.03554977\n",
       "13 lstat   -0.55832921   0.047342648      -0.004630018  -0.08586962"
      ]
     },
     "metadata": {},
     "output_type": "display_data"
    }
   ],
   "source": [
    "zscores"
   ]
  },
  {
   "cell_type": "code",
   "execution_count": 23,
   "metadata": {},
   "outputs": [
    {
     "name": "stderr",
     "output_type": "stream",
     "text": [
      "Using feature as id variables\n"
     ]
    },
    {
     "data": {},
     "metadata": {},
     "output_type": "display_data"
    },
    {
     "data": {
      "image/png": "[encoded data removed]",
      "text/plain": [
       "plot without title"
      ]
     },
     "metadata": {},
     "output_type": "display_data"
    }
   ],
   "source": [
    "ggplot(melt(zscores), aes(x = feature, y = value, fill = variable)) + \n",
    "    geom_bar(stat = \"identity\", width=0.5, position = \"dodge\")"
   ]
  },
  {
   "cell_type": "markdown",
   "metadata": {},
   "source": [
    "### Sampling Technique Selection"
   ]
  },
  {
   "cell_type": "markdown",
   "metadata": {},
   "source": [
    "From the z-score table above we can order the desired results as:\n",
    "\n",
    "    1) sample_95_5 (Sample calculated based on a confidence level of 95% and margin of error of 5%)\n",
    "    2) sample_100x_1pct (Sample 1% of the data repeadately 100 times)\n",
    "    3) sample_10_pct (10% of the data)\n",
    "    4) sample_1_pct (1% of the data)\n",
    "\n",
    "Any of the first 3 sampling techniques should give us adequate results."
   ]
  }
 ],
 "metadata": {
  "kernelspec": {
   "display_name": "R",
   "language": "R",
   "name": "ir"
  },
  "language_info": {
   "codemirror_mode": "r",
   "file_extension": ".r",
   "mimetype": "text/x-r-source",
   "name": "R",
   "pygments_lexer": "r",
   "version": "3.3.2"
  }
 },
 "nbformat": 4,
 "nbformat_minor": 2
}
